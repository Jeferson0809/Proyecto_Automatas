{
  "cells": [
    {
      "cell_type": "code",
      "execution_count": null,
      "metadata": {
        "colab": {
          "background_save": true,
          "base_uri": "https://localhost:8080/"
        },
        "id": "WJlkUoXOMRyO",
        "outputId": "1fd31a0a-8a01-4e3c-9ee1-78474fb354f9"
      },
      "outputs": [
        {
          "name": "stdout",
          "output_type": "stream",
          "text": [
            "Collecting automata-lib\n",
            "  Downloading automata_lib-8.1.0-py3-none-any.whl (106 kB)\n",
            "\u001b[?25l     \u001b[90m━━━━━━━━━━━━━━━━━━━━━━━━━━━━━━━━━━━━━━━━\u001b[0m \u001b[32m0.0/106.5 kB\u001b[0m \u001b[31m?\u001b[0m eta \u001b[36m-:--:--\u001b[0m\r\u001b[2K     \u001b[91m━━━━━━━━━━━━━━━━━━━━━━━━━━━━━━━━━━━━━━\u001b[0m\u001b[90m╺\u001b[0m\u001b[90m━\u001b[0m \u001b[32m102.4/106.5 kB\u001b[0m \u001b[31m3.7 MB/s\u001b[0m eta \u001b[36m0:00:01\u001b[0m\r\u001b[2K     \u001b[90m━━━━━━━━━━━━━━━━━━━━━━━━━━━━━━━━━━━━━━━━\u001b[0m \u001b[32m106.5/106.5 kB\u001b[0m \u001b[31m2.7 MB/s\u001b[0m eta \u001b[36m0:00:00\u001b[0m\n",
            "\u001b[?25hRequirement already satisfied: networkx>=2.6.2 in /usr/local/lib/python3.10/dist-packages (from automata-lib) (3.2.1)\n",
            "Requirement already satisfied: frozendict>=2.3.4 in /usr/local/lib/python3.10/dist-packages (from automata-lib) (2.3.10)\n",
            "Requirement already satisfied: typing-extensions>=4.5.0 in /usr/local/lib/python3.10/dist-packages (from automata-lib) (4.5.0)\n",
            "Collecting cached-method>=0.1.0 (from automata-lib)\n",
            "  Downloading cached_method-0.1.0-py3-none-any.whl (4.2 kB)\n",
            "Installing collected packages: cached-method, automata-lib\n",
            "Successfully installed automata-lib-8.1.0 cached-method-0.1.0\n"
          ]
        }
      ],
      "source": [
        "!pip install automata-lib"
      ]
    },
    {
      "cell_type": "markdown",
      "metadata": {
        "id": "Fmv26SWTFe3J"
      },
      "source": [
        "#Diccionario Palabras spam:"
      ]
    },
    {
      "cell_type": "markdown",
      "metadata": {
        "id": "sGl71pU9_N2n"
      },
      "source": [
        "1. Seleccionado\n",
        "2. Gano\n",
        "3. Ganado\n",
        "4. Gratis\n",
        "5. Gratuito\n",
        "6. Dinero\n",
        "7. Duplica\n",
        "8. Consiguelo\n",
        "9. Conseguido\n",
        "10. Regalo\n",
        "11. Regalamos\n",
        "12. Oferta\n",
        "13. Obsequio\n",
        "14. Obsequiamos\n",
        "15. Empieza\n",
        "16. Elegido\n",
        "17. Felicitaciones\n",
        "18. Promocion\n",
        "19. Increible\n",
        "20. Urgente"
      ]
    },
    {
      "cell_type": "markdown",
      "metadata": {
        "id": "By8xrl0U_FII"
      },
      "source": [
        "#Metodos"
      ]
    },
    {
      "cell_type": "code",
      "execution_count": null,
      "metadata": {
        "id": "eYpJRp8rDZpN"
      },
      "outputs": [],
      "source": [
        "from automata.fa.nfa import NFA\n",
        "#Automata que reconoce las palabras del diccionario de spam.\n",
        "def automata():\n",
        "  nfa = NFA(\n",
        "    states={'q0', 'q1', 'q2', 'q3', 'q4', 'q5', 'q6', 'q7', 'q8', 'q9', 'q10', 'q11', 'q12', 'q13', 'q14', 'q15', 'q16', 'q17', 'q18', 'q19', 'q20', 'q21', 'q22', 'q23', 'q24', 'q25', 'q26', 'q27', 'q28', 'q29', 'q30', 'q31', 'q32', 'q33', 'q34', 'q35', 'q36', 'q37', 'q38', 'q39', 'q40', 'q41', 'q42', 'q43', 'q44', 'q45', 'q46', 'q47', 'q48', 'q49', 'q50', 'q51', 'q52', 'q53', 'q54', 'q55', 'q56', 'q57', 'q58', 'q59', 'q60', 'q61', 'q62', 'q63', 'q64', 'q65', 'q66', 'q67', 'q68', 'q69', 'q70', 'q71', 'q72', 'q73', 'q74', 'q75', 'q76', 'q77', 'q78', 'q79', 'q80', 'q81', 'q82', 'q83', 'q84', 'q85', 'q86', 'q87', 'q88', 'q89', 'q90', 'q91', 'q92', 'q93', 'q94', 'q95', 'q96', 'q97', 'q98', 'q99', 'q100', 'q101', 'q102'},\n",
        "    input_symbols={'s', 'e', 'l', 'c', 'i', 'o', 'n', 'a', 'd', 'g', 'r', 't', 'u', 'p', 'm', 'f', 'b', 'q', 'z'},\n",
        "    transitions={\n",
        "        'q0':{'s':{'q1'}, 'g':{'q13'}, 'd':{'q22'}, 'c':{'q32'}, 'r':{'q44'}, 'o':{'q51'}, 'e':{'q60'}, 'f':{'q68'}, 'i':{'q80'}, 'u':{'q89'}, 'p':{'q94'}},\n",
        "        'q1':{'e':{'q2'}},\n",
        "        'q2':{'l':{'q3'}},\n",
        "        'q3':{'e':{'q4'}},\n",
        "        'q4':{'c':{'q5'}},\n",
        "        'q5':{'c':{'q6'}},\n",
        "        'q6':{'i':{'q7'}},\n",
        "        'q7':{'o':{'q8'}},\n",
        "        'q8':{'n':{'q9'}},\n",
        "        'q9':{'a':{'q10'}},\n",
        "        'q10':{'d':{'q11'}},\n",
        "        'q11':{'o':{'q12'}},\n",
        "        'q13':{'a':{'q14'}, 'r':{'q15'}},\n",
        "        'q14':{'n':{'q9','q11'}},\n",
        "        'q15':{'a':{'q16'}},\n",
        "        'q16':{'t':{'q17'}},\n",
        "        'q17':{'i':{'q18'}, 'u':{'q20'}},\n",
        "        'q18':{'s':{'q19'}},\n",
        "        'q20':{'i':{'q21'}},\n",
        "        'q21':{'t':{'q11'}},\n",
        "        'q22':{'i':{'q23'}, 'u':{'q26'}},\n",
        "        'q23':{'n':{'q24'}},\n",
        "        'q24':{'e':{'q25'}},\n",
        "        'q25':{'r':{'q11'}},\n",
        "        'q26':{'p':{'q27'}},\n",
        "        'q27':{'l':{'q28'}},\n",
        "        'q28':{'i':{'q29'}},\n",
        "        'q29':{'c':{'q30'}},\n",
        "        'q30':{'a':{'q31'}},\n",
        "        'q32':{'o':{'q33'}},\n",
        "        'q33':{'n':{'q34'}},\n",
        "        'q34':{'s':{'q35'}},\n",
        "        'q35':{'i':{'q36'}, 'e':{'q40'}},\n",
        "        'q36':{'g':{'q37'}},\n",
        "        'q37':{'u':{'q38'}},\n",
        "        'q38':{'e':{'q39'}},\n",
        "        'q39':{'l':{'q11'}},\n",
        "        'q40':{'g':{'q41'}},\n",
        "        'q41':{'u':{'q42'}},\n",
        "        'q42':{'i':{'q43'}},\n",
        "        'q43':{'d':{'q11'}},\n",
        "        'q44':{'e':{'q45'}},\n",
        "        'q45':{'g':{'q46'}},\n",
        "        'q46':{'a':{'q47'}},\n",
        "        'q47':{'l':{'q11','q48'}},\n",
        "        'q48':{'a':{'q49'}},\n",
        "        'q49':{'m':{'q50'}},\n",
        "        'q50':{'o':{'q18'}},\n",
        "        'q51':{'f':{'q52'}, 'b':{'q55'}},\n",
        "        'q52':{'e':{'q53'}},\n",
        "        'q53':{'r':{'q54'}},\n",
        "        'q54':{'t':{'q30'}},\n",
        "        'q55':{'s':{'q56'}},\n",
        "        'q56':{'e':{'q57'}},\n",
        "        'q57':{'q':{'q58'}},\n",
        "        'q58':{'u':{'q59'}},\n",
        "        'q59':{'i':{'q48','q11'}},\n",
        "        'q60':{'m':{'q61'}, 'l':{'q65'}},\n",
        "        'q61':{'p':{'q62'}},\n",
        "        'q62':{'i':{'q63'}},\n",
        "        'q63':{'e':{'q64'}},\n",
        "        'q64':{'z':{'q30'}},\n",
        "        'q65':{'e':{'q66'}},\n",
        "        'q66':{'g':{'q67'}},\n",
        "        'q67':{'i':{'q10'}},\n",
        "        'q68':{'e':{'q69'}},\n",
        "        'q69':{'l':{'q70'}},\n",
        "        'q70':{'i':{'q71'}},\n",
        "        'q71':{'c':{'q72'}},\n",
        "        'q72':{'i':{'q73'}},\n",
        "        'q73':{'t':{'q74'}},\n",
        "        'q74':{'a':{'q75'}},\n",
        "        'q75':{'c':{'q76'}},\n",
        "        'q76':{'i':{'q77'}},\n",
        "        'q77':{'o':{'q78'}},\n",
        "        'q78':{'n':{'q79'}},\n",
        "        'q79':{'e':{'q18'}},\n",
        "        'q80':{'n':{'q81'}},\n",
        "        'q81':{'c':{'q82'}},\n",
        "        'q82':{'r':{'q83'}},\n",
        "        'q83':{'e':{'q84'}},\n",
        "        'q84':{'i':{'q85'}},\n",
        "        'q85':{'b':{'q86'}},\n",
        "        'q86':{'l':{'q87'}},\n",
        "        'q87':{'e':{'q88'}},\n",
        "        'q89':{'r':{'q90'}},\n",
        "        'q90':{'g':{'q91'}},\n",
        "        'q91':{'e':{'q92'}},\n",
        "        'q92':{'n':{'q93'}},\n",
        "        'q93':{'t':{'q87'}},\n",
        "        'q94':{'r':{'q95'}},\n",
        "        'q95':{'o':{'q96'}},\n",
        "        'q96':{'m':{'q97'}},\n",
        "        'q97':{'o':{'q98'}},\n",
        "        'q98':{'c':{'q99'}},\n",
        "        'q99':{'i':{'q100'}},\n",
        "        'q100':{'o':{'q101'}},\n",
        "        'q101':{'n':{'q102'}},\n",
        "    },\n",
        "    initial_state='q0',\n",
        "    final_states={'q12','q19','q31','q88','q102'},\n",
        "  )\n",
        "  return nfa"
      ]
    },
    {
      "cell_type": "code",
      "execution_count": null,
      "metadata": {
        "id": "XYU_FZ_BgCdL"
      },
      "outputs": [],
      "source": [
        "from array import array\n",
        "#Convertir un mensaje en un arreglo de palabras.\n",
        "def processText(txt):\n",
        "  dictionary = [\n",
        "        ('á','a'),\n",
        "        ('é','e'),\n",
        "        ('í','i'),\n",
        "        ('ó','o'),\n",
        "        (',',''),\n",
        "        ('.',''),\n",
        "        ('¡',''),\n",
        "        ('!',''),\n",
        "        ('¿',''),\n",
        "        ('?',''),\n",
        "        ('(',''),\n",
        "        (')',''),\n",
        "        (';',''),\n",
        "        (':','')]\n",
        "  for c in dictionary:\n",
        "    txt = txt.replace(c[0],c[1])\n",
        "  txt = txt.lower().split(' ')\n",
        "  return txt\n",
        "\n",
        "#Cuenta cuantas palabras acepta el automata, es decir, cuantas de las palabras del correo se encuentran en el diccionario spam.\n",
        "def countWords(txt):\n",
        "  txt = processText(txt)\n",
        "  aut = automata()\n",
        "  num_words = 0\n",
        "  for word in txt:\n",
        "    if aut.accepts_input(word):\n",
        "      num_words+=1\n",
        "  return num_words\n",
        "\n",
        "def findSpam(txt):\n",
        "  num = countWords(txt)\n",
        "  if num>=4:\n",
        "    print('Hay una alta probabilidad de que el correo sea spam')\n",
        "  else:\n",
        "    print('Hay una baja probabilidad de que el correo sea spam')"
      ]
    },
    {
      "cell_type": "markdown",
      "metadata": {
        "id": "MvfnWEL3GS_t"
      },
      "source": [
        "#Prueba con distintos mensajes de correo electronico\n",
        "\n",
        "---\n",
        "\n",
        "\n"
      ]
    },
    {
      "cell_type": "markdown",
      "metadata": {
        "id": "D3PIs_JSQN2K"
      },
      "source": [
        "CORREOS SPAM:\n",
        "* CORREO #1:\n",
        "¡Felicitaciones, has sido elegido para disfrutar de nuestros beneficios exclusivos!\n",
        "\n",
        "Empieza a disfrutar de tus beneficios ahora. Hemos preparado una oferta especial solo para ti. Como obsequio de nuestra parte, te ofrecemos la oportunidad de obtener algo increíble.\n",
        "\n",
        "Esta promoción es limitada, así que es urgente que actúes cuanto antes. No querrás perderte esta increíble oportunidad.\n",
        "\n",
        "* CORREO #2:\n",
        "¡Urgente!\n",
        "\n",
        "Usted ha sido seleccionado para para ser parte de esta increible oferta ¡Felicidades! Obsequiamos una gran numero de celulares, computadores, etc... y queremos que tu participes. Si deseas participar, empieza enviandonos la siguiente informacion asi podras ser uno de los afortunados ganadores.\n",
        "\n",
        "CORREOS NO SPAM:\n",
        "* CORREO #3:\n",
        "Notas ejercicios clase tercer corte\n",
        "\n",
        "Hola a todos(as)\n",
        "\n",
        "Adjunto las 5 notas del tercer corte (N1 a N5) y la definitiva usando las tres mejores (DEF N) . Tambien se indican las notas de los dos pirmeros cortes (P1 y P2).\n",
        "\n",
        "El próximo viernes vamos a realizar el terce previo en el salón de clase.\n",
        "* CORREO #4:\n",
        "Novedades Exclusivas para Nuestros Socios\n",
        "\n",
        "Espero que este mensaje le encuentre bien. Queremos agradecerle por su continuo apoyo y confianza en nuestros productos y servicios.\n",
        "\n",
        "Estamos emocionados de compartirle algunas novedades exclusivas que hemos preparado para nuestros valiosos socios. Estas mejoras están diseñadas para proporcionarle una experiencia aún más satisfactoria con nuestros productos y servicios.\n",
        "\n",
        "Nos encantaría saber su opinión sobre estas novedades y cómo podemos seguir mejorando para satisfacer sus necesidades. ¿Estaría disponible para una breve llamada o reunión la próxima semana?\n",
        "\n",
        "Agradecemos sinceramente su asociación y esperamos seguir sirviéndole de la mejor manera posible.\n",
        "\n",
        "Saludos cordiales."
      ]
    },
    {
      "cell_type": "code",
      "execution_count": null,
      "metadata": {
        "colab": {
          "base_uri": "https://localhost:8080/"
        },
        "id": "u-i3HO5sGj30",
        "outputId": "21d2f8c3-dc10-407b-d55d-9975f655697e"
      },
      "outputs": [
        {
          "output_type": "stream",
          "name": "stdout",
          "text": [
            "Hay una alta probabilidad de que el correo sea spam\n",
            "Hay una alta probabilidad de que el correo sea spam\n",
            "Hay una baja probabilidad de que el correo sea spam\n",
            "Hay una baja probabilidad de que el correo sea spam\n"
          ]
        }
      ],
      "source": [
        "correo1 = '¡Felicitaciones, eres el elegido para disfrutar de nuestros beneficios exclusivos! Empieza a disfrutar de tus beneficios ahora. Hemos preparado una oferta especial solo para ti. Como obsequio de nuestra parte, te ofrecemos la oportunidad de obtener algo increíble. Esta promoción es limitada, así que es urgente que actúes cuanto antes. No querrás perderte esta increíble oportunidad.'\n",
        "correo2 = '¡Urgente! Usted ha sido seleccionado para para ser parte de esta increible oferta ¡Felicidades! Obsequiamos una gran numero de celulares, computadores, etc... y queremos que tu participes. Si deseas participar, empieza enviandonos la siguiente informacion asi podras ser uno de los afortunados ganadores.'\n",
        "correo3 = 'Notas ejercicios clase tercer corte. Hola a todos(as) Adjunto las 5 notas del tercer corte (N1 a N5) y la definitiva usando las tres mejores (DEF N) . Tambien se indican las notas de los dos pirmeros cortes (P1 y P2). El próximo viernes vamos a realizar el terce previo en el salón de clase.'\n",
        "correo4 = 'Novedades Exclusivas para Nuestros Socios Espero que este mensaje le encuentre bien. Queremos agradecerle por su continuo apoyo y confianza en nuestros productos y servicios. Estamos emocionados de compartirle algunas novedades exclusivas que hemos preparado para nuestros valiosos socios. Estas mejoras están diseñadas para proporcionarle una experiencia aún más satisfactoria con nuestros productos y servicios. Nos encantaría saber su opinión sobre estas novedades y cómo podemos seguir mejorando para satisfacer sus necesidades. ¿Estaría disponible para una breve llamada o reunión la próxima semana? Agradecemos sinceramente su asociación y esperamos seguir sirviéndole de la mejor manera posible. Saludos cordiales.'\n",
        "\n",
        "findSpam(correo1)\n",
        "findSpam(correo2)\n",
        "findSpam(correo3)\n",
        "findSpam(correo4)"
      ]
    }
  ],
  "metadata": {
    "colab": {
      "provenance": []
    },
    "kernelspec": {
      "display_name": "Python 3",
      "name": "python3"
    },
    "language_info": {
      "name": "python"
    }
  },
  "nbformat": 4,
  "nbformat_minor": 0
}